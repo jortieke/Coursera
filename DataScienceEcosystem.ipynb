{
  "metadata": {
    "kernelspec": {
      "name": "python",
      "display_name": "Python (Pyodide)",
      "language": "python"
    },
    "language_info": {
      "codemirror_mode": {
        "name": "python",
        "version": 3
      },
      "file_extension": ".py",
      "mimetype": "text/x-python",
      "name": "python",
      "nbconvert_exporter": "python",
      "pygments_lexer": "ipython3",
      "version": "3.8"
    }
  },
  "nbformat_minor": 5,
  "nbformat": 4,
  "cells": [
    {
      "id": "16121cd7-d71d-4142-a50d-cdd00b84e332",
      "cell_type": "markdown",
      "source": "# Data Science Tools and Ecosystem",
      "metadata": {}
    },
    {
      "id": "2ca79f70-135a-4ea9-a673-1d9a9bea65ee",
      "cell_type": "markdown",
      "source": "## In this notebook, Data Science Tools and Ecosystems are summarized.",
      "metadata": {}
    },
    {
      "id": "0d59f6a4-d73c-4316-8cda-285a89c9af46",
      "cell_type": "markdown",
      "source": "## __Objectives:__\n\n* Popular Languages\n* Commonly used Libraries\n* Data Science Tools\n* Examples of Arithmetic Expressions in Python Language\n",
      "metadata": {}
    },
    {
      "id": "74cb63b4-f9c9-40f3-a87a-9a7b3a058d6b",
      "cell_type": "markdown",
      "source": "### Some of the popular languages that Data Scientists use are:",
      "metadata": {}
    },
    {
      "id": "631f3519-c493-4465-b270-8950cc18bf38",
      "cell_type": "markdown",
      "source": "1. Python\n2. R\n3. SQL",
      "metadata": {}
    },
    {
      "id": "24a17a1d-b8e8-423f-b5c0-67f31cee5d35",
      "cell_type": "markdown",
      "source": "### Some of the commonly used libraries used by Data Scientists include:\n\n1. Pandas\n2. Matplotlib\n3. NumPy",
      "metadata": {}
    },
    {
      "id": "c9707675-f283-491c-bbf1-e132fdd74e3a",
      "cell_type": "markdown",
      "source": "| Data Science Tools |\n| ------------------- |\n| First Dev Environment: Pandas |\n| Second Dev Environment: MySQL |\n| Third Dev Environment: TensorFlow |",
      "metadata": {}
    },
    {
      "id": "016750d1-4f12-4bfd-a9e4-43bcf3489bcf",
      "cell_type": "markdown",
      "source": "### Below are a few examples of evaluating arithmetic expressions in Python",
      "metadata": {}
    },
    {
      "id": "554c988e-31a3-4159-8f9f-d4cdf0555c2f",
      "cell_type": "code",
      "source": "# This is a simple arithmetic expression to mutiply the add integers\n\nprint((3*4)+5)\n",
      "metadata": {
        "trusted": true
      },
      "outputs": [
        {
          "name": "stdout",
          "output_type": "stream",
          "text": "17\n"
        }
      ],
      "execution_count": 1
    },
    {
      "id": "66bedcce-78bc-4c3c-adef-dbdc205074b2",
      "cell_type": "code",
      "source": "#This will convert 200 minutes to hours by diving by 60\n\nminutes = 200\nhours = (minutes/60)\nprint(hours)",
      "metadata": {
        "trusted": true
      },
      "outputs": [
        {
          "name": "stdout",
          "output_type": "stream",
          "text": "3.3333333333333335\n"
        }
      ],
      "execution_count": 5
    },
    {
      "id": "2e1c7912-e8e2-4fe1-8a44-bb90764d0817",
      "cell_type": "markdown",
      "source": "## Author:\nJoão ricardo Jortieke Junior",
      "metadata": {}
    },
    {
      "id": "03808606-7075-484a-bec2-35b99d2787ee",
      "cell_type": "code",
      "source": "",
      "metadata": {
        "trusted": true
      },
      "outputs": [],
      "execution_count": null
    }
  ]
}